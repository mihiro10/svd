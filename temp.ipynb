{
 "cells": [
  {
   "cell_type": "code",
   "execution_count": 11,
   "metadata": {},
   "outputs": [
    {
     "name": "stdout",
     "output_type": "stream",
     "text": [
      "Custom U:\n",
      "[[ 0.49323762  0.86819544 -0.05434456]\n",
      " [ 0.460219   -0.31345194 -0.8306301 ]\n",
      " [ 0.73818367 -0.38468761  0.55416632]]\n",
      "\n",
      "NumPy U:\n",
      "[[-0.49323762  0.86819544 -0.05434456]\n",
      " [-0.460219   -0.31345194 -0.8306301 ]\n",
      " [-0.73818367 -0.38468761  0.55416632]]\n",
      "\n",
      "Custom V_T:\n",
      "[[ 0.6423315   0.49453207  0.58553248]\n",
      " [ 0.76435664 -0.46945622 -0.44200655]\n",
      " [ 0.05629545  0.73147036 -0.67954538]]\n",
      "\n",
      "NumPy V_T:\n",
      "[[-0.6423315  -0.49453207 -0.58553248]\n",
      " [ 0.76435664 -0.46945622 -0.44200655]\n",
      " [ 0.05629545  0.73147036 -0.67954538]]\n",
      "\n",
      "Custom Sigma:\n",
      "[[18.58936996  0.          0.        ]\n",
      " [ 0.          6.19518838  0.        ]\n",
      " [ 0.          0.          0.23444694]]\n",
      "\n",
      "NumPy Sigma:\n",
      "[[18.58936996  0.          0.        ]\n",
      " [ 0.          6.19518838  0.        ]\n",
      " [ 0.          0.          0.23444694]]\n",
      "\n",
      "Custom Reconstructed Matrix (U @ Sigma @ V_T):\n",
      "[[10.  2.  3.]\n",
      " [ 4.  5.  6.]\n",
      " [ 7.  8.  9.]]\n",
      "\n",
      "NumPy Reconstructed Matrix (U @ Sigma @ V_T):\n",
      "[[10.  2.  3.]\n",
      " [ 4.  5.  6.]\n",
      " [ 7.  8.  9.]]\n"
     ]
    }
   ],
   "source": [
    "import svd_solve as svd\n",
    "import numpy as np\n",
    "\n",
    "A = np.array([[10, 2, 3],\n",
    "              [4, 5, 6],\n",
    "              [7, 8, 9],])\n",
    "\n",
    "U, Sigma, V_T, cond_num, A_inv = svd.svd_solve(A)\n",
    "A_reconstructed = U @ Sigma @ V_T\n",
    "\n",
    "# NumPy's built-in SVD function for comparison\n",
    "np_U, np_SingularValues, np_V_T = np.linalg.svd(A)\n",
    "\n",
    "# Construct the Sigma matrix using NumPy's SVD\n",
    "np_Sigma = np.zeros_like(A, dtype=float)\n",
    "min_dim = min(A.shape[0], A.shape[1])\n",
    "np.fill_diagonal(np_Sigma[:min_dim, :min_dim], np_SingularValues)\n",
    "\n",
    "# Reconstructing the matrix A using NumPy's SVD components\n",
    "np_A_reconstructed = np_U @ np_Sigma @ np_V_T\n",
    "\n",
    "# Print the matrices for comparison\n",
    "print(\"Custom U:\")\n",
    "print(U)\n",
    "\n",
    "print(\"\\nNumPy U:\")\n",
    "print(np_U)\n",
    "\n",
    "# Compare V_T matrices\n",
    "print(\"\\nCustom V_T:\")\n",
    "print(V_T)\n",
    "\n",
    "print(\"\\nNumPy V_T:\")\n",
    "print(np_V_T)\n",
    "\n",
    "# Compare Sigma matrices\n",
    "print(\"\\nCustom Sigma:\")\n",
    "print(Sigma)\n",
    "\n",
    "print(\"\\nNumPy Sigma:\")\n",
    "print(np_Sigma)\n",
    "\n",
    "# Compare the reconstructed matrix A\n",
    "print(\"\\nCustom Reconstructed Matrix (U @ Sigma @ V_T):\")\n",
    "print(A_reconstructed)\n",
    "\n",
    "print(\"\\nNumPy Reconstructed Matrix (U @ Sigma @ V_T):\")\n",
    "print(np_A_reconstructed)"
   ]
  },
  {
   "cell_type": "code",
   "execution_count": 12,
   "metadata": {},
   "outputs": [
    {
     "name": "stdout",
     "output_type": "stream",
     "text": [
      "Custom SVD solver condition number and inverse matrix:\n",
      "Condition Number: 79.29030599962555\n",
      "Inverse of A:\n",
      "[[ 0.11111111 -0.22222222  0.11111111]\n",
      " [-0.22222222 -2.55555556  1.77777778]\n",
      " [ 0.11111111  2.44444444 -1.55555556]]\n",
      "\n",
      "NumPy condition number and inverse matrix:\n",
      "Condition Number: 79.2903059996245\n",
      "Inverse of A:\n",
      "[[ 0.11111111 -0.22222222  0.11111111]\n",
      " [-0.22222222 -2.55555556  1.77777778]\n",
      " [ 0.11111111  2.44444444 -1.55555556]]\n"
     ]
    }
   ],
   "source": [
    "# Insert the updated comparison code here\n",
    "print(\"Custom SVD solver condition number and inverse matrix:\")\n",
    "print(\"Condition Number:\", cond_num)\n",
    "print(\"Inverse of A:\")\n",
    "print(A_inv)\n",
    "\n",
    "print(\"\\nNumPy condition number and inverse matrix:\")\n",
    "print(\"Condition Number:\", np.linalg.cond(A))\n",
    "print(\"Inverse of A:\")\n",
    "print(np.linalg.inv(A))"
   ]
  }
 ],
 "metadata": {
  "kernelspec": {
   "display_name": "Python 3",
   "language": "python",
   "name": "python3"
  },
  "language_info": {
   "codemirror_mode": {
    "name": "ipython",
    "version": 3
   },
   "file_extension": ".py",
   "mimetype": "text/x-python",
   "name": "python",
   "nbconvert_exporter": "python",
   "pygments_lexer": "ipython3",
   "version": "3.9.12"
  }
 },
 "nbformat": 4,
 "nbformat_minor": 2
}
